{
 "cells": [
  {
   "cell_type": "markdown",
   "id": "341ebc2e-e1f8-4f46-ae06-f541de11c390",
   "metadata": {},
   "source": [
    "***3.1. Running and explain (Constant trong tensorflow)***"
   ]
  },
  {
   "cell_type": "code",
   "execution_count": 1,
   "id": "87b53ac3-87fe-4f85-9e32-37620cce568e",
   "metadata": {},
   "outputs": [
    {
     "name": "stdout",
     "output_type": "stream",
     "text": [
      "Hello World!\n"
     ]
    }
   ],
   "source": [
    "#Đỗ Ngọc Lâm - B22DCCN476\n",
    "#3.1.1\n",
    "import tensorflow as tf\n",
    "\n",
    "# tf.compat.v1.disable_eager_execution()  #for 1st solution below \n",
    "h = tf.constant(\"Hello\")\n",
    "w = tf.constant(\" World!\")\n",
    "hw = h + w\n",
    "\n",
    "# with tf.Session() as sess:  # callable with TensorFlow 1.x but the existing version is 2.19 \n",
    "#     ans = sess.run(hw)\n",
    "#     print (ans)\n",
    "\n",
    "#we have two options to solve this problems \n",
    "#-------1st solution----\n",
    "\n",
    "# with tf.compat.v1.Session() as sess:\n",
    "#     ans = sess.run(hw)\n",
    "#     print(ans.decode(\"utf-8\"))\n",
    "\n",
    "\n",
    "#-------2nd solution----\n",
    "print(hw.numpy().decode(\"utf-8\"))\n",
    "\n"
   ]
  },
  {
   "cell_type": "code",
   "execution_count": 5,
   "id": "28c76d71-b075-4f77-9478-360e8e8f36f5",
   "metadata": {},
   "outputs": [
    {
     "name": "stdout",
     "output_type": "stream",
     "text": [
      "tf.Tensor(5.0, shape=(), dtype=float32)\n",
      "--------------------------\n",
      "tf.Tensor([5.], shape=(1,), dtype=float32)\n",
      "--------------------------\n",
      "tf.Tensor([5. 3. 4.], shape=(3,), dtype=float32)\n",
      "--------------------------\n",
      "tf.Tensor(\n",
      "[[5. 3. 4. 6.]\n",
      " [2. 3. 4. 7.]], shape=(2, 4), dtype=float32)\n",
      "--------------------------\n",
      "tf.Tensor(\n",
      "[[[5. 3. 4. 6.]\n",
      "  [2. 3. 4. 0.]]], shape=(1, 2, 4), dtype=float32)\n",
      "--------------------------\n",
      "tf.Tensor(\n",
      "[[[5. 3. 4. 6.]\n",
      "  [2. 3. 4. 0.]]\n",
      "\n",
      " [[5. 3. 4. 6.]\n",
      "  [2. 3. 4. 0.]]\n",
      "\n",
      " [[5. 3. 4. 6.]\n",
      "  [2. 3. 4. 0.]]], shape=(3, 2, 4), dtype=float32)\n"
     ]
    }
   ],
   "source": [
    "#Đỗ Ngọc Lâm - B22DCCN476\n",
    "#3.1.2\n",
    "\n",
    "import tensorflow.compat.v1 as tf\n",
    "\n",
    "x = tf.constant(5,tf.float32)\n",
    "y = tf.constant([5], tf.float32)\n",
    "z = tf.constant([5,3,4], tf.float32)\n",
    "t = tf.constant([[5,3,4,6],[2,3,4,7]], tf.float32)\n",
    "u = tf.constant([[[5,3,4,6],[2,3,4,0]]], tf.float32)\n",
    "v = tf.constant([[[5,3,4,6],[2,3,4,0]],\n",
    "[[5,3,4,6],[2,3,4,0]],\n",
    "[[5,3,4,6],[2,3,4,0]]\n",
    "], tf.float32)\n",
    "\n",
    "print(x)\n",
    "print(\"--------------------------\")\n",
    "print(y)\n",
    "print(\"--------------------------\")\n",
    "print(z)\n",
    "print(\"--------------------------\")\n",
    "print(t)\n",
    "print(\"--------------------------\")\n",
    "print(u)\n",
    "print(\"--------------------------\")\n",
    "print(v)"
   ]
  },
  {
   "cell_type": "markdown",
   "id": "775fbd56-45c3-4c3e-9cf7-fff552d727e3",
   "metadata": {},
   "source": [
    "***Tensor là gì?***\n",
    "- Tensor là cấu trúc dữ liệu cốt lõi trong TensorFlow, dùng để biểu diễn dữ liệu đa chiều.\n",
    "- Có thể biểu diễn Tensor giống như mảng array, matrix,\n",
    "- Đặc điểm:\n",
    "  + Lưu trữ nhiều loại dữ liệu (int32, float32, float64, string, bool,..)\n",
    "  + có 3 thuộc tính quan trọng\n",
    "    * Rank (bậc): số chiều của tensor\n",
    "    * Shape (hình dạng): độ dài mỗi chiều (ma trận 2x3 có shape = [2,3])\n",
    "    * Type (kiểu dữ liệu): dữ liệu lưu trong tensor (tf.float32, tf.int64)\n"
   ]
  },
  {
   "cell_type": "markdown",
   "id": "00a84afc-1f22-4c69-bf44-cf37415534d3",
   "metadata": {},
   "source": [
    "***Constant trong Tensorflow*?**\n",
    "- tf.constant() là hàm dùng để tạo ra một Tensor có giá trị cố định (không thay đổi được trong quá trình chạy)\n",
    "- Là một loại Tensor đặc biệt, thường dùng để định nghĩa dữ liệu đầu vào cố định hoặc tham số không cần cập nhật\n",
    "- Đặc điểm:\n",
    "  * Một constant sẽ không thay đổi giá trị trong suốt quá trình thực thi (khác với tf.Variable)\n",
    "  * Có thế tạo constant từ: số, danh sách, numpy array, hoặc chuỗi\n",
    "  * Mỗi constant có thể mang dtype (kiểu dữ liệu) riêng, mặc định sẽ được TensorFlow tự suy luận\n"
   ]
  },
  {
   "cell_type": "code",
   "execution_count": 8,
   "id": "c4620c33-d668-40d3-8c79-55dc0d052752",
   "metadata": {},
   "outputs": [
    {
     "name": "stdout",
     "output_type": "stream",
     "text": [
      "Giá trị ban đầu của constant: 5\n",
      "Lỗi khi gán lại constant: 'tensorflow.python.framework.ops.EagerTensor' object has no attribute 'assign'\n",
      "Giá trị ban đầu của variable: 5\n",
      "Giá trị sau khi cập nhật: 10\n",
      "Giá trị sau khi cộng thêm 3: 13\n",
      "Giá trị sau khi trừ đi 2: 11\n"
     ]
    }
   ],
   "source": [
    "##Đỗ Ngọc Lâm - B22DCCN476\n",
    "#Demonstrate the constancy of tf.constant() compared to the flexibility of tf.Variable()\n",
    "\n",
    "import tensorflow as tf\n",
    "c = tf.constant(5)\n",
    "print(\"Giá trị ban đầu của constant:\", c.numpy())\n",
    "try:\n",
    "    c.assign(10)   # assign chỉ dùng cho Variable\n",
    "except AttributeError as e:\n",
    "    print(\"Lỗi khi gán lại constant:\", e)\n",
    "\n",
    "# Tạo một variable\n",
    "v = tf.Variable(5)\n",
    "print(\"Giá trị ban đầu của variable:\", v.numpy())\n",
    "v.assign(10)\n",
    "print(\"Giá trị sau khi cập nhật:\", v.numpy())\n",
    "v.assign_add(3)\n",
    "print(\"Giá trị sau khi cộng thêm 3:\", v.numpy())\n",
    "v.assign_sub(2)\n",
    "print(\"Giá trị sau khi trừ đi 2:\", v.numpy())\n",
    "\n"
   ]
  },
  {
   "cell_type": "code",
   "execution_count": 8,
   "id": "313ec0ff-2284-497d-9403-0c899a9cea6f",
   "metadata": {},
   "outputs": [
    {
     "name": "stdout",
     "output_type": "stream",
     "text": [
      "Name: tensorflow\n",
      "Version: 2.19.0\n",
      "Summary: TensorFlow is an open source machine learning framework for everyone.\n",
      "Home-page: https://www.tensorflow.org/\n",
      "Author: Google Inc.\n",
      "Author-email: packages@tensorflow.org\n",
      "License: Apache 2.0\n",
      "Location: C:\\Users\\Admin\\AppData\\Local\\Programs\\Python\\Python311\\Lib\\site-packages\n",
      "Requires: absl-py, astunparse, flatbuffers, gast, google-pasta, grpcio, h5py, keras, libclang, ml-dtypes, numpy, opt-einsum, packaging, protobuf, requests, setuptools, six, tensorboard, tensorflow-io-gcs-filesystem, termcolor, typing-extensions, wrapt\n",
      "Required-by: \n"
     ]
    }
   ],
   "source": [
    "!pip show tensorflow\n"
   ]
  },
  {
   "cell_type": "code",
   "execution_count": 9,
   "id": "e626cada-b6be-4318-9f48-c1235c72cb88",
   "metadata": {},
   "outputs": [
    {
     "name": "stderr",
     "output_type": "stream",
     "text": [
      "ERROR: Could not find a version that satisfies the requirement tensorflow==1.15 (from versions: 2.12.0rc0, 2.12.0rc1, 2.12.0, 2.12.1, 2.13.0rc0, 2.13.0rc1, 2.13.0rc2, 2.13.0, 2.13.1, 2.14.0rc0, 2.14.0rc1, 2.14.0, 2.14.1, 2.15.0rc0, 2.15.0rc1, 2.15.0, 2.15.1, 2.16.0rc0, 2.16.1, 2.16.2, 2.17.0rc0, 2.17.0rc1, 2.17.0, 2.17.1, 2.18.0rc0, 2.18.0rc1, 2.18.0rc2, 2.18.0, 2.18.1, 2.19.0rc0, 2.19.0, 2.19.1, 2.20.0rc0, 2.20.0)\n",
      "ERROR: No matching distribution found for tensorflow==1.15\n",
      "\n",
      "[notice] A new release of pip is available: 23.1.2 -> 25.2\n",
      "[notice] To update, run: python.exe -m pip install --upgrade pip\n"
     ]
    }
   ],
   "source": [
    "!pip install tensorflow==1.15\n"
   ]
  },
  {
   "cell_type": "code",
   "execution_count": 10,
   "id": "eddf9de9-3929-4f5b-a6ce-9b98db630840",
   "metadata": {},
   "outputs": [
    {
     "name": "stdout",
     "output_type": "stream",
     "text": [
      "Python 3.11.4\n"
     ]
    }
   ],
   "source": [
    "!python --version"
   ]
  },
  {
   "cell_type": "markdown",
   "id": "c2027899-c1da-4462-95c5-a2dd00fedc52",
   "metadata": {},
   "source": [
    "***3.2. Running and Explain (Variable in tensorflow)***"
   ]
  },
  {
   "cell_type": "code",
   "execution_count": 15,
   "id": "49ecb5dd-76da-4812-841a-082e2adc57c4",
   "metadata": {},
   "outputs": [
    {
     "name": "stdout",
     "output_type": "stream",
     "text": [
      "22.79\n"
     ]
    }
   ],
   "source": [
    "#Đỗ Ngọc Lâm - B22DCCN476\n",
    "#3.2.1\n",
    "import tensorflow.compat.v1 as tf\n",
    "tf.disable_eager_execution()\n",
    "\n",
    "x1 = tf.Variable(5.3, tf.float32)  #khi chạy variable thì giá trị khởi tạo chưa được gán ngay lập tức do disable eager mode ở trên\n",
    "x2 = tf.Variable(4.3, tf.float32)\n",
    "x = tf.multiply(x1, x2)\n",
    "\n",
    "init = tf.global_variables_initializer()  #phương thức để khởi tạo các biến toàn cục\n",
    "\n",
    "with tf.Session() as sess:\n",
    "    sess.run(init)   #thực thi mệnh lệnh khởi tạo\n",
    "    t = sess.run(x)\n",
    "    print(t)"
   ]
  },
  {
   "cell_type": "code",
   "execution_count": 17,
   "id": "1fe68d5f-eadc-4024-8aec-9c66ff38f9d3",
   "metadata": {},
   "outputs": [
    {
     "name": "stdout",
     "output_type": "stream",
     "text": [
      "[[22.79 19.35 42.  ]\n",
      " [22.79 19.35 42.  ]]\n"
     ]
    }
   ],
   "source": [
    "#Đỗ Ngọc Lâm - B22DCCN476\n",
    "#3.2.2\n",
    "\n",
    "import tensorflow.compat.v1 as tf\n",
    "tf.compat.v1.disable_eager_execution()\n",
    "x1 = tf.Variable([[5.3,4.5,6.0],\n",
    "[4.3,4.3,7.0]\n",
    "], tf.float32)\n",
    "x2 = tf.Variable([[4.3,4.3,7.0],\n",
    "[5.3,4.5,6.0]\n",
    "], tf.float32)\n",
    "x = tf.multiply(x1,x2)\n",
    "init = tf.global_variables_initializer()\n",
    "with tf.Session() as sess:\n",
    "    sess.run(init)\n",
    "    t = sess.run(x)\n",
    "    print(t)"
   ]
  },
  {
   "cell_type": "code",
   "execution_count": 21,
   "id": "43de88c5-beee-49af-975a-55d380b4a1ae",
   "metadata": {},
   "outputs": [
    {
     "name": "stdout",
     "output_type": "stream",
     "text": [
      "Tensor value before addition:\n",
      " [[0. 0.]\n",
      " [0. 0.]]\n",
      "Tensor value after addition:\n",
      " [[1. 1.]\n",
      " [1. 1.]]\n"
     ]
    }
   ],
   "source": [
    "#Đỗ Ngọc Lâm - B22DCCN476\n",
    "#3.2.3\n",
    "\n",
    "import tensorflow.compat.v1 as tf\n",
    "# creating nodes in computation graph\n",
    "node = tf.Variable(tf.zeros([2,2]))  #ma trận 2x2 toàn số 0\n",
    "# running computation graph\n",
    "with tf.Session() as sess:\n",
    "    # initialize all global variables\n",
    "    sess.run(tf.global_variables_initializer())\n",
    "    # evaluating node\n",
    "    print(\"Tensor value before addition:\\n\",sess.run(node))\n",
    "    # elementwise addition to tensor\n",
    "    node = node.assign(node + tf.ones([2,2]))\n",
    "    # evaluate node again\n",
    "    print(\"Tensor value after addition:\\n\", sess.run(node))\n",
    "sess.close()"
   ]
  },
  {
   "cell_type": "markdown",
   "id": "82ab9bb3-39f1-4a5c-95e0-caf14275ea3f",
   "metadata": {},
   "source": [
    "***3.3 Run and explain (Placeholder)***"
   ]
  },
  {
   "cell_type": "code",
   "execution_count": 24,
   "id": "30df3893-2288-47fd-8536-9735a15e3d23",
   "metadata": {},
   "outputs": [
    {
     "name": "stdout",
     "output_type": "stream",
     "text": [
      "10.0\n"
     ]
    }
   ],
   "source": [
    "#Đỗ Ngọc Lâm - B22DCCN476\n",
    "#3.3.1\n",
    "import tensorflow.compat.v1 as tf\n",
    "tf.compat.v1.disable_eager_execution()\n",
    "x = tf.placeholder(tf.float32,None)  #tạo placeholder (chỗ trống, sẽ nạp dữ liệu vào sau)\n",
    "y = tf.add(x,x)     #định nghĩa phép tính y = x + x\n",
    "with tf.Session() as sess:\n",
    "    x_data= 5   \n",
    "    result = sess.run(y,feed_dict={x:x_data})   #feed_dict dùng để gán giá trị vào placeholder\n",
    "    print(result)\n"
   ]
  },
  {
   "cell_type": "code",
   "execution_count": 26,
   "id": "c3fc6062-1f9b-47dd-8e54-fdd07ba46116",
   "metadata": {},
   "outputs": [
    {
     "name": "stdout",
     "output_type": "stream",
     "text": [
      "[[3.  4.  6.6]]\n"
     ]
    }
   ],
   "source": [
    "#Đỗ Ngọc Lâm - B22DCCN476\n",
    "#3.3.2\n",
    "\n",
    "import tensorflow.compat.v1 as tf\n",
    "tf.compat.v1.disable_eager_execution()\n",
    "x = tf.placeholder(tf.float32,[None,3])  #[None, 3] khởi tạo ma trận có số hàng bất kì, có 3 cột\n",
    "y = tf.add(x,x)\n",
    "with tf.Session() as sess:\n",
    "    x_data= [[1.5, 2.0, 3.3]]\n",
    "    result = sess.run(y,feed_dict={x:x_data})\n",
    "    print(result)"
   ]
  },
  {
   "cell_type": "code",
   "execution_count": 29,
   "id": "dfc2b3bc-b161-4a03-ab03-e15a736ba1ac",
   "metadata": {},
   "outputs": [
    {
     "name": "stdout",
     "output_type": "stream",
     "text": [
      "[[[2. 4. 6.]]]\n"
     ]
    }
   ],
   "source": [
    "#Đỗ Ngọc Lâm - B22DCCN476\n",
    "#3.3.3\n",
    "import tensorflow.compat.v1 as tf\n",
    "tf.compat.v1.disable_eager_execution()\n",
    "x = tf.placeholder(tf.float32,[None,None,3])   #[None,None,3] tensor 3 chiều \n",
    "y = tf.add(x,x)\n",
    "with tf.Session() as sess:\n",
    "    x_data= [[[1,2,3]]]\n",
    "    result = sess.run(y,feed_dict={x:x_data})\n",
    "    print(result)"
   ]
  },
  {
   "cell_type": "code",
   "execution_count": 30,
   "id": "89cd9451-20d8-411a-9ef8-09178647e3d0",
   "metadata": {},
   "outputs": [
    {
     "name": "stdout",
     "output_type": "stream",
     "text": [
      "[[[ 2.  4.  6.]\n",
      "  [ 4.  6.  8.]\n",
      "  [ 4.  6. 10.]\n",
      "  [ 0.  2.  4.]]]\n"
     ]
    }
   ],
   "source": [
    "#Đỗ Ngọc Lâm - B22DCCN476\n",
    "#3.3.4\n",
    "import tensorflow.compat.v1 as tf\n",
    "tf.compat.v1.disable_eager_execution()\n",
    "x = tf.placeholder(tf.float32,[None,4,3])\n",
    "y = tf.add(x,x)\n",
    "with tf.Session() as sess:\n",
    "    x_data= [[[1,2,3],\n",
    "              [2,3,4],\n",
    "              [2,3,5],\n",
    "              [0,1,2]\n",
    "            ]]\n",
    "    result = sess.run(y,feed_dict={x:x_data})\n",
    "    print(result)"
   ]
  },
  {
   "cell_type": "code",
   "execution_count": 33,
   "id": "b4cc3a87-f896-410a-95d1-1b96ba5e1f9d",
   "metadata": {},
   "outputs": [
    {
     "name": "stdout",
     "output_type": "stream",
     "text": [
      "[[[ 2.  4.  6.]\n",
      "  [ 4.  6.  8.]\n",
      "  [ 4.  6. 10.]\n",
      "  [ 0.  2.  4.]]\n",
      "\n",
      " [[ 2.  4.  6.]\n",
      "  [ 4.  6.  8.]\n",
      "  [ 4.  6. 10.]\n",
      "  [ 0.  2.  4.]]]\n"
     ]
    }
   ],
   "source": [
    "#Đỗ Ngọc Lâm - B22DCCN476\n",
    "#3.3.5\n",
    "import tensorflow.compat.v1 as tf\n",
    "tf.compat.v1.disable_eager_execution()\n",
    "x = tf.placeholder(tf.float32,[2,4,3])\n",
    "y = tf.add(x,x)\n",
    "with tf.Session() as sess:\n",
    "    x_data= [[[1,2,3],\n",
    "              [2,3,4],\n",
    "              [2,3,5],\n",
    "              [0,1,2]\n",
    "             ],\n",
    "            [[1,2,3],\n",
    "             [2,3,4],\n",
    "             [2,3,5],\n",
    "             [0,1,2]\n",
    "            ]]\n",
    "    result = sess.run(y,feed_dict={x:x_data})\n",
    "    print(result)"
   ]
  },
  {
   "cell_type": "code",
   "execution_count": 34,
   "id": "e01adf00-b002-49d5-92a7-b3840fd5d3f7",
   "metadata": {},
   "outputs": [
    {
     "name": "stdout",
     "output_type": "stream",
     "text": [
      "result1 = [[[ 2.  4.  6.]\n",
      "  [ 4.  6.  8.]\n",
      "  [ 4.  6. 10.]\n",
      "  [ 0.  2.  4.]]\n",
      "\n",
      " [[ 2.  4.  6.]\n",
      "  [ 4.  6.  8.]\n",
      "  [ 4.  6. 10.]\n",
      "  [ 0.  2.  4.]]]\n",
      "result2 = [[[ 1.  4.  9.]\n",
      "  [ 4.  9. 16.]\n",
      "  [ 4.  9. 25.]\n",
      "  [ 0.  1.  4.]]\n",
      "\n",
      " [[ 1.  4.  9.]\n",
      "  [ 4.  9. 16.]\n",
      "  [ 4.  9. 25.]\n",
      "  [ 0.  1.  4.]]]\n"
     ]
    }
   ],
   "source": [
    "#Đỗ Ngọc Lâm - B22DCCN476\n",
    "#3.3.6\n",
    "import tensorflow.compat.v1 as tf\n",
    "tf.compat.v1.disable_eager_execution()\n",
    "x = tf.placeholder(tf.float32,[2,4,3])\n",
    "y = tf.placeholder(tf.float32,[2,4,3])\n",
    "z = tf.add(x,y)\n",
    "u = tf.multiply(x,y)\n",
    "with tf.Session() as sess:\n",
    "    x_data= [[[1,2,3],\n",
    "    [2,3,4],\n",
    "    [2,3,5],\n",
    "    [0,1,2]\n",
    "    ],\n",
    "    [[1,2,3],\n",
    "    [2,3,4],\n",
    "    [2,3,5],\n",
    "    [0,1,2]\n",
    "    ]]\n",
    "    y_data= [[[1,2,3],\n",
    "    [2,3,4],\n",
    "    [2,3,5],\n",
    "    [0,1,2]\n",
    "    ],\n",
    "    [[1,2,3],[2,3,4],\n",
    "    [2,3,5],\n",
    "    [0,1,2]\n",
    "    ]]\n",
    "    result1 = sess.run(z,feed_dict={x:x_data, y:y_data})\n",
    "    result2 = sess.run(u,feed_dict={x:x_data, y:y_data})\n",
    "    print(\"result1 =\", result1)\n",
    "    print(\"result2 =\", result2)"
   ]
  },
  {
   "cell_type": "code",
   "execution_count": 35,
   "id": "13ddcf26-3904-4efa-8f20-fe022490703f",
   "metadata": {},
   "outputs": [
    {
     "name": "stdout",
     "output_type": "stream",
     "text": [
      "Sum of each row: [ 6. 15. 24.]\n"
     ]
    }
   ],
   "source": [
    "#Đỗ Ngọc Lâm - B22DCCN476\n",
    "#3.3.7 - Ví dụ thêm tự tạo \n",
    "import tensorflow.compat.v1 as tf\n",
    "tf.disable_eager_execution()\n",
    "# Batch bất kỳ (None), mỗi mẫu có 3 đặc trưng\n",
    "x = tf.placeholder(tf.float32, [None, 3])\n",
    "# Tính tổng theo từng hàng\n",
    "y = tf.reduce_sum(x, axis=1)\n",
    "with tf.Session() as sess:\n",
    "    batch_data = [\n",
    "        [1, 2, 3],\n",
    "        [4, 5, 6],\n",
    "        [7, 8, 9]\n",
    "    ]\n",
    "    result = sess.run(y, feed_dict={x: batch_data})\n",
    "    print(\"Sum of each row:\", result)\n"
   ]
  },
  {
   "cell_type": "markdown",
   "id": "0b51eff6-399b-4693-ac8d-aea2a26f6180",
   "metadata": {},
   "source": [
    "***3.4. Run and explain (Operation)***"
   ]
  },
  {
   "cell_type": "code",
   "execution_count": 37,
   "id": "29f8017f-1381-4bf6-89b2-eba9036ece22",
   "metadata": {},
   "outputs": [
    {
     "name": "stdout",
     "output_type": "stream",
     "text": [
      "0.9885698\n"
     ]
    }
   ],
   "source": [
    "#Đỗ Ngọc Lâm - B22DCCN476\n",
    "#3.4.1\n",
    "import tensorflow.compat.v1 as tf\n",
    "tf.compat.v1.disable_eager_execution()\n",
    "x1 = tf.constant(5.3, tf.float32)\n",
    "x2 = tf.constant(1.5, tf.float32)\n",
    "w1 = tf.Variable(0.7, tf.float32)\n",
    "w2 = tf.Variable(0.5, tf.float32)\n",
    "u = tf.multiply(x1,w1)\n",
    "v = tf.multiply(x2,w2)\n",
    "z = tf.add(u,v)\n",
    "result = tf.sigmoid(z)  #hàm sigmoid, result = 1 / (1+exp(-z)) --> thường dùng trong mạng neuron hoặc logistic regression\n",
    "init = tf.global_variables_initializer()\n",
    "with tf.Session() as sess:\n",
    "    sess.run(init)\n",
    "    print(sess.run(result))"
   ]
  },
  {
   "cell_type": "code",
   "execution_count": 41,
   "id": "4707441d-4482-4adf-9bb0-a4a433231970",
   "metadata": {},
   "outputs": [
    {
     "data": {
      "image/png": "[encoded data removed]",
      "text/plain": [
       "<Figure size 640x480 with 1 Axes>"
      ]
     },
     "metadata": {},
     "output_type": "display_data"
    }
   ],
   "source": [
    "#Đỗ Ngọc Lâm - B22DCCN476\n",
    "#3.4.2\n",
    "import numpy as np\n",
    "import matplotlib.pyplot as plt\n",
    "number_of_points = 500\n",
    "x_point = []\n",
    "y_point = []\n",
    "a = 0.22\n",
    "b = 0.78\n",
    "for i in range(number_of_points):\n",
    "    x = np.random.normal(0.0,0.5)  #sinh số ngẫu nhiên theo phân phối chuẩn (loc, scale, size = None) \n",
    "    y = a*x + b +np.random.normal(0.0,0.1)  #loc = 0.0 --> mean = 0.0, scale = 0.5 --> độ lệch chuẩn, size = None --> sinh ra 1 số duy nhất\n",
    "    x_point.append([x])\n",
    "    y_point.append([y])\n",
    "plt.plot(x_point,y_point, 'o', label = 'Input Data')\n",
    "plt.legend()\n",
    "plt.show()"
   ]
  },
  {
   "cell_type": "code",
   "execution_count": 42,
   "id": "41c8313c-4237-4ee5-aa0f-1298c2693703",
   "metadata": {},
   "outputs": [
    {
     "name": "stdout",
     "output_type": "stream",
     "text": [
      "[[0.785835   0.85814893 0.9801597 ]]\n"
     ]
    }
   ],
   "source": [
    "#Đỗ Ngọc Lâm - B22DCCN476\n",
    "#3.4.3\n",
    "import tensorflow.compat.v1 as tf\n",
    "tf.compat.v1.disable_eager_execution()\n",
    "x1 = tf.placeholder(tf.float32,[None,3])\n",
    "x2 = tf.placeholder(tf.float32,[None,3])\n",
    "w1 = tf.Variable([0.5,0.4,0.7],tf.float32)\n",
    "w2 = tf.Variable([0.8,0.5,0.6], tf.float32)\n",
    "u1 = tf.multiply(w1,x1)\n",
    "u2 = tf.multiply(w2,x2)\n",
    "v = tf.add(u1,u2)\n",
    "z = tf.sigmoid(v)\n",
    "init = tf.global_variables_initializer()\n",
    "with tf.Session() as sess:\n",
    "    x1_data= [[1,2,3]]\n",
    "    x2_data= [[1,2,3]]\n",
    "    sess.run(init)\n",
    "    result = sess.run(z,feed_dict={x1:x1_data, x2:x2_data})\n",
    "    print(result)"
   ]
  },
  {
   "cell_type": "code",
   "execution_count": 51,
   "id": "76358618-7f32-4177-a31a-db512d737ece",
   "metadata": {},
   "outputs": [
    {
     "name": "stdout",
     "output_type": "stream",
     "text": [
      "[[2 2 2]\n",
      " [2 2 2]\n",
      " [2 2 2]]\n",
      "[[1 1 1]\n",
      " [1 1 1]\n",
      " [1 1 1]]\n",
      "[[2. 7. 2.]\n",
      " [1. 4. 2.]\n",
      " [9. 0. 2.]]\n",
      "[[6 6 6]\n",
      " [6 6 6]\n",
      " [6 6 6]]\n",
      "[[3 3 3]\n",
      " [3 3 3]\n",
      " [3 3 3]]\n",
      "55.999992\n"
     ]
    }
   ],
   "source": [
    "#Đỗ Ngọc Lâm - B22DCCN476\n",
    "#3.4.4\n",
    "import tensorflow.compat.v1 as tf\n",
    "import numpy as np\n",
    "tf.compat.v1.disable_eager_execution()\n",
    "matrix1 = np.array([(2,2,2),(2,2,2),(2,2,2)],dtype = 'int32')\n",
    "matrix2 = np.array([(1,1,1),(1,1,1),(1,1,1)],dtype = 'int32')\n",
    "print (matrix1)\n",
    "print (matrix2)\n",
    "matrix1 = tf.constant(matrix1)\n",
    "matrix2 = tf.constant(matrix2)\n",
    "matrix_product = tf.matmul(matrix1, matrix2)\n",
    "matrix_sum = tf.add(matrix1,matrix2)\n",
    "matrix_3 = np.array([(2,7,2),(1,4,2),(9,0,2)],dtype = 'float32')\n",
    "print (matrix_3)\n",
    "matrix_3 = tf.constant(matrix_3, dtype = tf.float32)\n",
    "# matrix_det = tf.matrix_determinant(matrix_3)\n",
    "# Dùng tf.linalg.det thay cho tf.matrix_determinant\n",
    "matrix_det = tf.linalg.det(matrix_3)\n",
    "with tf.Session() as sess:\n",
    "    result1 = sess.run(matrix_product)\n",
    "    result2 = sess.run(matrix_sum)\n",
    "    result3 = sess.run(matrix_det)\n",
    "print (result1)\n",
    "print (result2)\n",
    "print (result3)"
   ]
  },
  {
   "cell_type": "markdown",
   "id": "e890c53c-0066-492d-a7b0-383e9d85b3d1",
   "metadata": {},
   "source": [
    "***3.5. Running and explain Linear Regression model using TensorFlow Core API***"
   ]
  },
  {
   "cell_type": "code",
   "execution_count": 55,
   "id": "240ba52a-0baf-4ba7-a6b0-1fc16cdbffe3",
   "metadata": {},
   "outputs": [
    {
     "name": "stdout",
     "output_type": "stream",
     "text": [
      "Epoch:  200 | Cost: 0.079049 | W: 0.225530 | b: 0.983874\n",
      "Epoch:  400 | Cost: 0.078233 | W: 0.231160 | b: 0.943961\n",
      "Epoch:  600 | Cost: 0.077731 | W: 0.235575 | b: 0.912656\n",
      "Epoch:  800 | Cost: 0.077422 | W: 0.239039 | b: 0.888102\n",
      "Epoch: 1000 | Cost: 0.077233 | W: 0.241755 | b: 0.868843\n",
      "Epoch: 1200 | Cost: 0.077116 | W: 0.243886 | b: 0.853738\n",
      "Epoch: 1400 | Cost: 0.077044 | W: 0.245557 | b: 0.841890\n",
      "Epoch: 1600 | Cost: 0.077000 | W: 0.246868 | b: 0.832598\n",
      "Epoch: 1800 | Cost: 0.076972 | W: 0.247896 | b: 0.825309\n",
      "Epoch: 2000 | Cost: 0.076956 | W: 0.248702 | b: 0.819593\n",
      "Optimization Finished!\n",
      "Final training cost: 0.0769556 | W: 0.24870224 | b: 0.81959265 \n",
      "\n"
     ]
    },
    {
     "data": {
      "image/png": "[encoded data removed]",
      "text/plain": [
       "<Figure size 640x480 with 1 Axes>"
      ]
     },
     "metadata": {},
     "output_type": "display_data"
    },
    {
     "name": "stdout",
     "output_type": "stream",
     "text": [
      "Final testing cost: 0.07891295\n",
      "Absolute mean square loss difference: 0.0019573495\n"
     ]
    },
    {
     "data": {
      "image/png": "[encoded data removed]",
      "text/plain": [
       "<Figure size 640x480 with 1 Axes>"
      ]
     },
     "metadata": {},
     "output_type": "display_data"
    }
   ],
   "source": [
    "#Đỗ Ngọc Lâm - B22DCCN476\n",
    "#3.5\n",
    "# importing the dependencies\n",
    "import tensorflow.compat.v1 as tf\n",
    "import numpy as np\n",
    "import matplotlib.pyplot as plt\n",
    "# Model Parameters\n",
    "learning_rate = 0.01\n",
    "training_epochs = 2000\n",
    "display_step = 200\n",
    "# Training Data\n",
    "train_X = np.asarray([3.3,4.4,5.5,6.71,6.93,4.168,9.779,6.182,7.59,2.167,\n",
    "                      7.042,10.791,5.313,7.997,5.654,9.27,3.1])\n",
    "train_y = np.asarray([1.7,2.76,2.09,3.19,1.694,1.573,3.366,2.596,2.53,1.221,\n",
    "                     2.827,3.465,1.65,2.904,2.42,2.94,1.3])\n",
    "n_samples = train_X.shape[0]\n",
    "\n",
    "# Test Data\n",
    "test_X = np.asarray([6.83, 4.668, 8.9, 7.91, 5.7, 8.7, 3.1, 2.1])\n",
    "# Set placeholders for feature and target vectors\n",
    "X = tf.placeholder(tf.float32)\n",
    "y = tf.placeholder(tf.float32)\n",
    "# Set model weights and bias)\n",
    "test_y = np.asarray([1.84, 2.273, 3.2, 2.831, 2.92, 3.24, 1.35, 1.03])\n",
    "W = tf.Variable(np.random.randn(), name=\"weight\")\n",
    "b = tf.Variable(np.random.randn(), name=\"bias\")\n",
    "# Construct a linear model\n",
    "linear_model = W*X + b\n",
    "\n",
    "# Mean squared error\n",
    "cost = tf.reduce_sum(tf.square(linear_model - y)) / (2*n_samples)\n",
    "\n",
    "# Gradient descent\n",
    "optimizer = tf.train.GradientDescentOptimizer(learning_rate).minimize(cost)\n",
    "# Initializing the variables\n",
    "init = tf.global_variables_initializer()\n",
    "\n",
    "# Training\n",
    "with tf.Session() as sess:\n",
    "    sess.run(init)\n",
    "\n",
    "    for epoch in range(training_epochs):\n",
    "        sess.run(optimizer, feed_dict={X: train_X, y: train_y})\n",
    "        if (epoch + 1) % display_step == 0:\n",
    "            c, W_val, b_val = sess.run([cost, W, b], feed_dict={X: train_X, y: train_y})\n",
    "            print(\"Epoch: {0:4d} | Cost: {1:.6f} | W: {2:.6f} | b: {3:.6f}\".format(\n",
    "                epoch + 1, c, W_val, b_val\n",
    "            ))\n",
    "    print(\"Optimization Finished!\")\n",
    "    training_cost, W_trained, b_trained = sess.run([cost, W, b], feed_dict={X: train_X, y: train_y})\n",
    "    print(\"Final training cost:\", training_cost, \"| W:\", W_trained, \"| b:\", b_trained, '\\n')\n",
    "\n",
    "    plt.plot(train_X, train_y, 'ro', label='Training data')\n",
    "    plt.plot(train_X, W_trained * train_X + b_trained, label='Fitted line')\n",
    "    plt.legend()\n",
    "    plt.show()\n",
    "\n",
    "    # Testing\n",
    "    testing_cost = sess.run(\n",
    "        tf.reduce_sum(tf.square(linear_model - y)) / (2 * test_X.shape[0]),\n",
    "        feed_dict={X: test_X, y: test_y}\n",
    "    )\n",
    "    print(\"Final testing cost:\", testing_cost)\n",
    "    print(\"Absolute mean square loss difference:\", abs(training_cost - testing_cost))\n",
    "\n",
    "    # Plot fitted line vs test data\n",
    "    plt.plot(test_X, test_y, 'bo', label='Testing data')\n",
    "    plt.plot(test_X, W_trained * test_X + b_trained, label='Fitted line (on test)')\n",
    "    plt.legend()\n",
    "    plt.show()\n"
   ]
  },
  {
   "cell_type": "markdown",
   "id": "cdda3fb5-2c25-4f21-96a0-6869d795c307",
   "metadata": {},
   "source": [
    "***3.6. Model Neuron Network***\n",
    "- View Fig 1.1 in the diagram. Code and explain"
   ]
  },
  {
   "cell_type": "code",
   "execution_count": 64,
   "id": "fb670e91-39f3-4cdb-8f8f-eacc6a23f664",
   "metadata": {},
   "outputs": [
    {
     "name": "stdout",
     "output_type": "stream",
     "text": [
      "Sum: 1.27\n",
      "Output: 0.8537976\n"
     ]
    }
   ],
   "source": [
    "#Đỗ Ngọc Lâm - B22DCCN476\n",
    "#3.6\n",
    "import numpy as np\n",
    "import tensorflow.compat.v1 as tf\n",
    "tf.disable_eager_execution()\n",
    "\n",
    "# Inputs\n",
    "X = np.array([2.0, 3.0, 4.0], dtype=np.float32)\n",
    "W = np.array([0.05, 0.07, 0.09], dtype=np.float32)\n",
    "b = 0.60\n",
    "\n",
    "# Placeholders cho input và weight\n",
    "x_ph = tf.placeholder(tf.float32, shape=[3])\n",
    "w_ph = tf.placeholder(tf.float32, shape=[3])\n",
    "b_ph = tf.placeholder(tf.float32)\n",
    "\n",
    "# sum with weights \n",
    "z = tf.reduce_sum(tf.multiply(x_ph, w_ph)) + b_ph\n",
    "\n",
    "# tanh activation\n",
    "output = tf.nn.tanh(z)\n",
    "\n",
    "with tf.Session() as sess:\n",
    "    z = sess.run(z, feed_dict={x_ph: X, w_ph: W, b_ph: b})\n",
    "    result = sess.run(output, feed_dict={x_ph: X, w_ph: W, b_ph: b})\n",
    "    print(\"Sum:\", z)\n",
    "    print(\"Output:\", result)\n"
   ]
  },
  {
   "cell_type": "markdown",
   "id": "1b614862-0a70-4091-b0cc-387c463f1737",
   "metadata": {},
   "source": [
    "***3.6. Model Neuron Network***\n",
    "- Design a simple neuron network that is given in the diagram. Student replaces tank various sigmoid, relu,..\n",
    "- Visualize all versions and explain\n",
    "- Copy code and images of running program"
   ]
  },
  {
   "cell_type": "code",
   "execution_count": 69,
   "id": "bb2e733a-6221-41b7-86f4-06317fd615b7",
   "metadata": {},
   "outputs": [
    {
     "data": {
      "image/png": "[encoded data removed]",
      "text/plain": [
       "<Figure size 600x400 with 1 Axes>"
      ]
     },
     "metadata": {},
     "output_type": "display_data"
    },
    {
     "data": {
      "image/png": "[encoded data removed]",
      "text/plain": [
       "<Figure size 600x400 with 1 Axes>"
      ]
     },
     "metadata": {},
     "output_type": "display_data"
    },
    {
     "data": {
      "image/png": "[encoded data removed]",
      "text/plain": [
       "<Figure size 600x400 with 1 Axes>"
      ]
     },
     "metadata": {},
     "output_type": "display_data"
    },
    {
     "data": {
      "image/png": "[encoded data removed]",
      "text/plain": [
       "<Figure size 600x400 with 1 Axes>"
      ]
     },
     "metadata": {},
     "output_type": "display_data"
    },
    {
     "data": {
      "image/png": "[encoded data removed]",
      "text/plain": [
       "<Figure size 600x400 with 1 Axes>"
      ]
     },
     "metadata": {},
     "output_type": "display_data"
    }
   ],
   "source": [
    "#Đỗ Ngọc Lâm - B22DCCN476\n",
    "#3.6-b\n",
    "import numpy as np\n",
    "import tensorflow.compat.v1 as tf\n",
    "import matplotlib.pyplot as plt\n",
    "tf.disable_eager_execution()\n",
    "\n",
    "# Inputs và tham số (giống sơ đồ bạn đưa)\n",
    "X = np.array([2.0, 3.0, 4.0], dtype=np.float32)\n",
    "W = np.array([0.05, 0.07, 0.09], dtype=np.float32)\n",
    "b = 0.60\n",
    "\n",
    "# Placeholder\n",
    "x_ph = tf.placeholder(tf.float32, shape=[3])\n",
    "w_ph = tf.placeholder(tf.float32, shape=[3])\n",
    "b_ph = tf.placeholder(tf.float32)\n",
    "\n",
    "# Tổng có trọng số (z = W·X + b)\n",
    "z = tf.reduce_sum(tf.multiply(x_ph, w_ph)) + b_ph\n",
    "\n",
    "# Activation functions\n",
    "acts = {\n",
    "    \"tanh\": tf.nn.tanh(z),\n",
    "    \"sigmoid\": tf.nn.sigmoid(z),\n",
    "    \"ReLU\": tf.nn.relu(z),\n",
    "    \"LeakyReLU\": tf.nn.leaky_relu(z, alpha=0.01),\n",
    "    \"Softplus\": tf.nn.softplus(z)\n",
    "}\n",
    "\n",
    "# Vẽ đồ thị activation functions trên [-5, 5]\n",
    "zgrid = np.linspace(-5, 5, 400)\n",
    "\n",
    "with tf.Session() as sess:\n",
    "    for name, op in acts.items():\n",
    "        # Tính giá trị tại từng z trong zgrid\n",
    "        values = []\n",
    "        for val in zgrid:\n",
    "            out = sess.run(op, feed_dict={x_ph: X, w_ph: W, b_ph: val - np.dot(X, W)})\n",
    "            values.append(out)\n",
    "        \n",
    "        # Vẽ đường cong\n",
    "        plt.figure(figsize=(6,4))\n",
    "        plt.plot(zgrid, values, label=name)\n",
    "        \n",
    "        real_z = sess.run(z, feed_dict={x_ph: X, w_ph: W, b_ph: b})\n",
    "        real_out = sess.run(op, feed_dict={x_ph: X, w_ph: W, b_ph: b})\n",
    "        plt.axvline(real_z, linestyle=\"--\", color=\"gray\")\n",
    "        plt.scatter([real_z], [real_out], c=\"red\", label=f\"z={real_z:.2f}, out={real_out:.2f}\")\n",
    "        \n",
    "        plt.title(f\"Activation function: {name}\")\n",
    "        plt.xlabel(\"z = W·X + b\")\n",
    "        plt.ylabel(f\"{name}(z)\")\n",
    "        plt.legend()\n",
    "        plt.show()\n"
   ]
  },
  {
   "cell_type": "markdown",
   "id": "a1d3e775-7fc4-4a5c-a0a8-f77d33b70bea",
   "metadata": {},
   "source": [
    "***3.7. Design code with TensorFlow for the network given in the following Figure.***"
   ]
  },
  {
   "cell_type": "code",
   "execution_count": 70,
   "id": "b9655564-6df2-499a-a07c-acc3203d0e29",
   "metadata": {},
   "outputs": [
    {
     "name": "stdout",
     "output_type": "stream",
     "text": [
      "Epoch    1 | loss=0.6922 | acc_train=0.507 | acc_val=0.510\n",
      "Epoch  100 | loss=0.6463 | acc_train=0.620 | acc_val=0.610\n",
      "Epoch  200 | loss=0.6289 | acc_train=0.645 | acc_val=0.650\n",
      "Epoch  300 | loss=0.6113 | acc_train=0.660 | acc_val=0.670\n",
      "Epoch  400 | loss=0.6061 | acc_train=0.668 | acc_val=0.660\n",
      "Epoch  500 | loss=0.6070 | acc_train=0.665 | acc_val=0.650\n",
      "Epoch  600 | loss=0.6014 | acc_train=0.675 | acc_val=0.650\n",
      "Epoch  700 | loss=0.6040 | acc_train=0.673 | acc_val=0.650\n",
      "Epoch  800 | loss=0.6005 | acc_train=0.647 | acc_val=0.670\n",
      "\n",
      "Five validation examples (probs [Fail, Pass]):\n",
      "  #1: [0.84216374 0.15783618]  -> pred=0\n",
      "  #2: [0.42165712 0.5783429 ]  -> pred=1\n",
      "  #3: [0.42687145 0.5731285 ]  -> pred=1\n",
      "  #4: [0.50247896 0.49752107]  -> pred=0\n",
      "  #5: [0.42687145 0.5731285 ]  -> pred=1\n"
     ]
    }
   ],
   "source": [
    "#Đỗ Ngọc Lâm - B22DCCN476\n",
    "#3.7\n",
    "# TF v1 style\n",
    "import tensorflow.compat.v1 as tf\n",
    "import numpy as np\n",
    "np.random.seed(42)\n",
    "\n",
    "# ====== 1) DỮ LIỆU GIẢ LẬP======\n",
    "# Input: [Age, Hours, AvgPrevScore]\n",
    "N = 500\n",
    "age  = np.random.randint(15, 25, size=N).astype(np.float32)             # tuổi\n",
    "hours = np.clip(np.random.normal(3.0, 1.5, size=N), 0, 8).astype(np.float32)  # giờ học/ngày\n",
    "avg   = np.clip(np.random.normal(6.5, 1.5, size=N), 0, 10).astype(np.float32) # điểm TB trước\n",
    "\n",
    "X_data = np.stack([age, hours, avg], axis=1)\n",
    "\n",
    "# Quy luật tạo nhãn: học nhiều + điểm TB cao -> pass (đơn giản hoá)\n",
    "logit_true = 0.15*hours + 0.25*avg - 2.0 + 0.02*(age-18)   # score tuyến tính\n",
    "p_pass = 1.0 / (1.0 + np.exp(-logit_true))   #sigmoid\n",
    "y_pass = (np.random.rand(N) < p_pass).astype(np.int32)\n",
    "\n",
    "# One-hot: [Fail, Pass]\n",
    "y_data = np.zeros((N, 2), dtype=np.float32)\n",
    "y_data[np.arange(N), y_pass] = 1.0\n",
    "\n",
    "# Chuẩn hoá nhẹ để tối ưu ổn định hơn\n",
    "X_mean, X_std = X_data.mean(0), X_data.std(0) + 1e-7  #std: độ lệch chuẩn\n",
    "Xn = (X_data - X_mean) / X_std\n",
    "\n",
    "# Train/Val split\n",
    "idx = np.random.permutation(N)\n",
    "train_idx, val_idx = idx[:400], idx[400:]\n",
    "Xtr, ytr = Xn[train_idx], y_data[train_idx]\n",
    "Xval, yval = Xn[val_idx], y_data[val_idx]\n",
    "\n",
    "# ====== 2) KIẾN TRÚC MẠNG======\n",
    "input_dim  = 3\n",
    "hidden1    = 8        # Layer 1 (Hidden)\n",
    "hidden2    = 6        # Layer N (Hidden)\n",
    "output_dim = 2        # Output layer: [Fail, Pass]\n",
    "\n",
    "X = tf.placeholder(tf.float32, shape=[None, input_dim], name=\"X\")\n",
    "y = tf.placeholder(tf.float32, shape=[None, output_dim], name=\"y\")\n",
    "\n",
    "# Layer 1\n",
    "W1 = tf.Variable(tf.random.normal([input_dim, hidden1], stddev=0.1), name=\"W1\")\n",
    "b1 = tf.Variable(tf.zeros([hidden1]), name=\"b1\")\n",
    "h1 = tf.nn.relu(tf.matmul(X, W1) + b1, name=\"h1\")  # ReLU như hình\n",
    "\n",
    "# Layer 2\n",
    "W2 = tf.Variable(tf.random.normal([hidden1, hidden2], stddev=0.1), name=\"W2\")\n",
    "b2 = tf.Variable(tf.zeros([hidden2]), name=\"b2\")\n",
    "h2 = tf.nn.relu(tf.matmul(h1, W2) + b2, name=\"h2\")\n",
    "\n",
    "# Output layer (logits)\n",
    "W3 = tf.Variable(tf.random.normal([hidden2, output_dim], stddev=0.1), name=\"W3\")\n",
    "b3 = tf.Variable(tf.zeros([output_dim]), name=\"b3\")\n",
    "logits = tf.matmul(h2, W3) + b3                        # chưa softmax\n",
    "probs  = tf.nn.softmax(logits, name=\"probs\")           # [p_fail, p_pass]\n",
    "\n",
    "# ====== 3) HÀM MẤT MÁT & TỐI ƯU ======\n",
    "loss = tf.reduce_mean(tf.nn.softmax_cross_entropy_with_logits_v2(\n",
    "    labels=y, logits=logits))\n",
    "opt  = tf.train.AdamOptimizer(learning_rate=0.01).minimize(loss)\n",
    "\n",
    "# ====== 4) ĐÁNH GIÁ ======\n",
    "pred = tf.argmax(probs, axis=1)\n",
    "true = tf.argmax(y, axis=1)\n",
    "acc  = tf.reduce_mean(tf.cast(tf.equal(pred, true), tf.float32))\n",
    "\n",
    "# ====== 5) HUẤN LUYỆN ======\n",
    "epochs = 800\n",
    "batch  = 64\n",
    "\n",
    "def batches(Xa, ya, bs):\n",
    "    n = Xa.shape[0]\n",
    "    p = np.random.permutation(n)\n",
    "    for i in range(0, n, bs):\n",
    "        j = p[i:i+bs]\n",
    "        yield Xa[j], ya[j]\n",
    "\n",
    "with tf.Session() as sess:\n",
    "    sess.run(tf.global_variables_initializer())\n",
    "\n",
    "    for ep in range(1, epochs+1):\n",
    "        for xb, yb in batches(Xtr, ytr, batch):\n",
    "            sess.run(opt, feed_dict={X: xb, y: yb})\n",
    "        if ep % 100 == 0 or ep == 1:\n",
    "            l, a_tr, a_val = sess.run(\n",
    "                [loss, acc, acc],\n",
    "                feed_dict={X: Xtr, y: ytr}\n",
    "            )[0], sess.run(acc, {X: Xtr, y: ytr}), sess.run(acc, {X: Xval, y: yval})\n",
    "            print(f\"Epoch {ep:4d} | loss={l:.4f} | acc_train={a_tr:.3f} | acc_val={a_val:.3f}\")\n",
    "\n",
    "    # Ví dụ dự đoán: in xác suất Pass/Fail cho 5 mẫu validation\n",
    "    probs_val = sess.run(probs, {X: Xval[:5]})\n",
    "    print(\"\\nFive validation examples (probs [Fail, Pass]):\")\n",
    "    for i, p in enumerate(probs_val):\n",
    "        print(f\"  #{i+1}: {p}  -> pred={np.argmax(p)}\")\n",
    "\n",
    "\n"
   ]
  },
  {
   "cell_type": "code",
   "execution_count": null,
   "id": "4f8b518a-16ac-4fbd-b34a-41f53d2deee2",
   "metadata": {},
   "outputs": [],
   "source": []
  }
 ],
 "metadata": {
  "kernelspec": {
   "display_name": "Python 3 (ipykernel)",
   "language": "python",
   "name": "python3"
  },
  "language_info": {
   "codemirror_mode": {
    "name": "ipython",
    "version": 3
   },
   "file_extension": ".py",
   "mimetype": "text/x-python",
   "name": "python",
   "nbconvert_exporter": "python",
   "pygments_lexer": "ipython3",
   "version": "3.11.4"
  }
 },
 "nbformat": 4,
 "nbformat_minor": 5
}
